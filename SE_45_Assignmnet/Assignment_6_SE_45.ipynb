{
  "metadata": {
    "kernelspec": {
      "name": "python",
      "display_name": "Python (Pyodide)",
      "language": "python"
    },
    "language_info": {
      "codemirror_mode": {
        "name": "python",
        "version": 3
      },
      "file_extension": ".py",
      "mimetype": "text/x-python",
      "name": "python",
      "nbconvert_exporter": "python",
      "pygments_lexer": "ipython3",
      "version": "3.8"
    }
  },
  "nbformat_minor": 5,
  "nbformat": 4,
  "cells": [
    {
      "id": "d25bcd77-db6b-45d8-9e96-b8cb417834e7",
      "cell_type": "markdown",
      "source": "#### Name = Pranjal Keshav Patil\n#### Roll No. = 45",
      "metadata": {}
    },
    {
      "id": "df0c6015-36c1-42d7-bb1d-075725d86b34",
      "cell_type": "markdown",
      "source": "##### 1. Create a Pandas DataFrame from the following dataset:\n##### Name Age Salary Department\n##### John 25 50000 HR\n##### Alice 30 70000 IT\n##### Bob 35 60000 Finance\n##### Carol 28 65000 Marketing\n##### David 40 80000 IT\n###### • Display the first and last two rows of the DataFrame.\n###### • Retrieve the Salary column and compute its mean and standard deviation.\n###### • Filter employees who are older than 30 and belong to the IT department.\n###### • Add a new column Bonus where the bonus is 10% of the salary.",
      "metadata": {}
    },
    {
      "id": "6d909d79-41d1-495a-905d-d2b8391b35e1",
      "cell_type": "code",
      "source": "import pandas as pd",
      "metadata": {
        "trusted": true
      },
      "outputs": [],
      "execution_count": 1
    },
    {
      "id": "4e9a043b-0720-4d2a-8782-1f7d010efcf7",
      "cell_type": "markdown",
      "source": "###### Step 1: Create the DataFrame",
      "metadata": {}
    },
    {
      "id": "471a55ea-b187-4f2b-b4fd-651ea60af6dd",
      "cell_type": "code",
      "source": "data = {\n    'Name': ['John', 'Alice', 'Bob', 'Carol', 'David'],\n    'Age': [25, 30, 35, 28, 40],\n    'Salary': [50000, 70000, 60000, 65000, 80000],\n    'Department': ['HR', 'IT', 'Finance', 'Marketing', 'IT']\n}\n",
      "metadata": {
        "trusted": true
      },
      "outputs": [],
      "execution_count": 2
    },
    {
      "id": "20341296-a7d5-4ceb-836a-091db2dcc937",
      "cell_type": "code",
      "source": "df = pd.DataFrame(data)",
      "metadata": {
        "trusted": true
      },
      "outputs": [],
      "execution_count": 3
    },
    {
      "id": "0f5aee27-5f77-4a56-b7c7-644190b8693e",
      "cell_type": "markdown",
      "source": "###### Step 2: Display the first and last two rows",
      "metadata": {}
    },
    {
      "id": "788d0dc6-0c53-4f20-b816-6de95d9105da",
      "cell_type": "code",
      "source": "print(\"First two rows:\")\nprint(df.head(2))\n\nprint(\"\\nLast two rows:\")\nprint(df.tail(2))",
      "metadata": {
        "trusted": true
      },
      "outputs": [
        {
          "name": "stdout",
          "output_type": "stream",
          "text": "First two rows:\n    Name  Age  Salary Department\n0   John   25   50000         HR\n1  Alice   30   70000         IT\n\nLast two rows:\n    Name  Age  Salary Department\n3  Carol   28   65000  Marketing\n4  David   40   80000         IT\n"
        }
      ],
      "execution_count": 4
    },
    {
      "id": "7b3f6399-18e5-4135-a0da-cfecad64dbfe",
      "cell_type": "markdown",
      "source": "###### Step 3: Retrieve Salary column and compute mean and std deviation",
      "metadata": {}
    },
    {
      "id": "892b0702-e8fe-4e91-af52-0339dac0b20a",
      "cell_type": "code",
      "source": "salary = df['Salary']\nprint(\"Salary Mean:\", salary.mean())\nprint(\"Salary Standard Deviation:\", salary.std())",
      "metadata": {
        "trusted": true
      },
      "outputs": [
        {
          "name": "stdout",
          "output_type": "stream",
          "text": "Salary Mean: 65000.0\nSalary Standard Deviation: 11180.339887498949\n"
        }
      ],
      "execution_count": 7
    },
    {
      "id": "4fa0b472-c023-409f-895b-df1993b31f20",
      "cell_type": "markdown",
      "source": "###### Step 4: Filter employees older than 30 in IT department",
      "metadata": {}
    },
    {
      "id": "409b986e-eef5-4fdf-9613-0c356f278893",
      "cell_type": "code",
      "source": "filtered = df[(df['Age'] > 30) & (df['Department'] == 'IT')]\nprint(\"Employees older than 30 in IT Department:\")\nprint(filtered)",
      "metadata": {
        "trusted": true
      },
      "outputs": [
        {
          "name": "stdout",
          "output_type": "stream",
          "text": "Employees older than 30 in IT Department:\n    Name  Age  Salary Department\n4  David   40   80000         IT\n"
        }
      ],
      "execution_count": 8
    },
    {
      "id": "ec1cdb39-1d36-4f25-b6c9-576e97a5668b",
      "cell_type": "markdown",
      "source": "###### Step 5: Add a Bonus column (10% of Salary)",
      "metadata": {}
    },
    {
      "id": "716b23be-4a9d-423f-8894-f4535be8eb4c",
      "cell_type": "code",
      "source": "df['Bonus'] = df['Salary'] * 0.10\nprint(\"DataFrame with Bonus column:\")\nprint(df)",
      "metadata": {
        "trusted": true
      },
      "outputs": [
        {
          "name": "stdout",
          "output_type": "stream",
          "text": "DataFrame with Bonus column:\n    Name  Age  Salary Department   Bonus\n0   John   25   50000         HR  5000.0\n1  Alice   30   70000         IT  7000.0\n2    Bob   35   60000    Finance  6000.0\n3  Carol   28   65000  Marketing  6500.0\n4  David   40   80000         IT  8000.0\n"
        }
      ],
      "execution_count": 9
    }
  ]
}