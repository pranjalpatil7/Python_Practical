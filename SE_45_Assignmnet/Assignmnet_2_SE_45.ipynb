{
  "metadata": {
    "kernelspec": {
      "name": "python",
      "display_name": "Python (Pyodide)",
      "language": "python"
    },
    "language_info": {
      "codemirror_mode": {
        "name": "python",
        "version": 3
      },
      "file_extension": ".py",
      "mimetype": "text/x-python",
      "name": "python",
      "nbconvert_exporter": "python",
      "pygments_lexer": "ipython3",
      "version": "3.8"
    }
  },
  "nbformat_minor": 5,
  "nbformat": 4,
  "cells": [
    {
      "id": "abb385a4-3d6c-4c16-bdc9-6b7c396113bc",
      "cell_type": "markdown",
      "source": "#### Name : Pranjal Keshav Patil\n#### Roll No. : 45",
      "metadata": {}
    },
    {
      "id": "2d8f2350-c9e0-4413-b278-3b7d6c3a190b",
      "cell_type": "markdown",
      "source": "#### Assignment No. 02",
      "metadata": {}
    },
    {
      "id": "600f1b9e-6d40-4365-816e-9abc8810ab8b",
      "cell_type": "markdown",
      "source": "##### You are given a large log file containing various system events. Each line in the log file follows this format:\n##### [YYYY-MM-DD HH:MM:SS] [LOG_LEVEL] [MODULE] Message\n#### where:\n##### • YYYY-MM-DD HH:MM:SS is a timestamp.\n##### • LOG_LEVEL can be INFO, WARN, ERROR, or DEBUG.\n##### • MODULE represents the system module name (alphanumeric, can contain underscores).\n##### • Message is the actual log message (it may contain any characters).\n#### task is :\n##### Write a function extract_critical_errors(log_data: str) -> list[tuple] that takes a multiline string log_data (containing log entries) and returns a list of tuples containing:\n##### 1. The timestamp\n##### 2. The module name\n##### 3. The error message\n#### BUT only if:\n##### • The LOG_LEVEL is ERROR.\n##### • The message contains at least one IP address in IPv4 format (xxx.xxx.xxx.xxx, where xxx is in the range 0-255).\n##### • The message contains a hexadecimal error code, formatted as 0x followed by exactly 8 hexadecimal digits (0-9, A-F).",
      "metadata": {}
    },
    {
      "id": "110ef1d1-7b60-4bba-832e-40179d8150cf",
      "cell_type": "code",
      "source": "",
      "metadata": {
        "trusted": true
      },
      "outputs": [],
      "execution_count": null
    },
    {
      "id": "2d440299-dca9-4629-8cd9-a824340bd9ae",
      "cell_type": "code",
      "source": "import re\n\ndef extract_critical_errors(log_data: str):\n    # Full regex pattern that captures timestamp, log level, module, and message\n    pattern = re.compile(\n        r'\\[(?P<timestamp>\\d{4}-\\d{2}-\\d{2} \\d{2}:\\d{2}:\\d{2})\\] '  # Timestamp\n        r'\\[ERROR\\] '  # Log level must be ERROR\n        r'\\[(?P<module>[A-Za-z0-9_]+)\\] '  # Module name\n        r'(?P<message>.*?)(?=\\n|$)',  # Message with non-greedy match\n        re.MULTILINE  # Handle multi-line log_data\n    )\n\n    # Regex to match a valid IPv4 address\n    ip_pattern = r'\\b(?:25[0-5]|2[0-4][0-9]|[01]?[0-9][0-9]?)\\.(?:25[0-5]|2[0-4][0-9]|[01]?[0-9][0-9]?)\\.(?:25[0-5]|2[0-4][0-9]|[01]?[0-9][0-9]?)\\.(?:25[0-5]|2[0-4][0-9]|[01]?[0-9][0-9]?)\\b'\n    \n    # Regex to match a hexadecimal error code\n    hex_pattern = r'0x[0-9A-Fa-f]{8}'\n\n    # List to store the results as tuples\n    critical_errors = []\n\n    # Find all matching log entries\n    matches = pattern.finditer(log_data)\n    for match in matches:\n        timestamp = match.group('timestamp')\n        module = match.group('module')\n        message = match.group('message')\n\n        # Check if the message contains both an IP address and a hexadecimal error code\n        ip_match = re.search(ip_pattern, message)\n        hex_match = re.search(hex_pattern, message)\n\n        # If both conditions are met, append the result to the list\n        if ip_match and hex_match:\n            critical_errors.append((timestamp, module, message))\n\n    return critical_errors\n\n\n# Example input\nlog_data = '''[2025-02-10 14:23:01] [INFO] [Auth_Module] User login successful.\n[2025-02-10 15:45:32] [ERROR] [Net_Module] Connection timeout from 192.168.1.10. Error Code: 0xAB12CD34\n[2025-02-10 16:01:10] [WARN] [Disk_Module] Low disk space warning.\n[2025-02-10 17:12:05] [ERROR] [Security_Module] Unauthorized access detected from 10.0.0.5. Error Code: 0xDEADBEEF'''\n\n# Call the function with the log data\ncritical_errors = extract_critical_errors(log_data)\n\n# Print the result\nfor error in critical_errors:\n    print(error)\n",
      "metadata": {
        "trusted": true
      },
      "outputs": [
        {
          "name": "stdout",
          "output_type": "stream",
          "text": "('2025-02-10 15:45:32', 'Net_Module', 'Connection timeout from 192.168.1.10. Error Code: 0xAB12CD34')\n('2025-02-10 17:12:05', 'Security_Module', 'Unauthorized access detected from 10.0.0.5. Error Code: 0xDEADBEEF')\n"
        }
      ],
      "execution_count": 14
    },
    {
      "id": "ab83abe6-61cd-4e9b-a507-5183c7bbac03",
      "cell_type": "code",
      "source": "",
      "metadata": {
        "trusted": true
      },
      "outputs": [],
      "execution_count": null
    }
  ]
}