{
  "nbformat": 4,
  "nbformat_minor": 0,
  "metadata": {
    "colab": {
      "provenance": []
    },
    "kernelspec": {
      "name": "python3",
      "display_name": "Python 3"
    },
    "language_info": {
      "name": "python"
    }
  },
  "cells": [
    {
      "cell_type": "markdown",
      "source": [
        "**Name = Pranjal Keshav Patil**\n",
        "\n",
        "**Roll No = 45**"
      ],
      "metadata": {
        "id": "FRUitJyuYKOl"
      }
    },
    {
      "cell_type": "markdown",
      "source": [
        "**Given the head of a linked list, rotate the list to the right by k places.**\n",
        "\n",
        "*Example 1*\n",
        "Input: head = [1,2,3,4,5], k = 2\n",
        "Output: [4,5,1,2,3]\n",
        "\n",
        "*Example 2*\n",
        "Input: head = [0,1,2], k = 4\n",
        "Output: [2,0,1]"
      ],
      "metadata": {
        "id": "4qJdCxNWX54H"
      }
    },
    {
      "cell_type": "code",
      "execution_count": 2,
      "metadata": {
        "colab": {
          "base_uri": "https://localhost:8080/"
        },
        "id": "-zR3VBorXwiJ",
        "outputId": "71ce5fff-a103-4ce2-a9e4-67044c3bd434"
      },
      "outputs": [
        {
          "output_type": "stream",
          "name": "stdout",
          "text": [
            "Enter the values of the linked list (separated by space): 1 2 3 4 5\n",
            "Enter the number of places to rotate (k): 3\n",
            "3 -> 4 -> 5 -> 1 -> 2\n"
          ]
        }
      ],
      "source": [
        "class Node:\n",
        "    def __init__(self, value):\n",
        "        self.data = value\n",
        "        self.next = None\n",
        "\n",
        "class LinkedList:\n",
        "    def __init__(self):\n",
        "        self.head = None\n",
        "\n",
        "    def insertion(self, data):\n",
        "        newNode = Node(data)\n",
        "        if not self.head:\n",
        "            self.head = newNode\n",
        "        else:\n",
        "            current = self.head\n",
        "            while current.next:\n",
        "                current = current.next\n",
        "            current.next = newNode\n",
        "\n",
        "    def traversal(self):\n",
        "        current = self.head\n",
        "        while current:\n",
        "            print(current.data, end=' -> ')\n",
        "            current = current.next\n",
        "        print('NULL')\n",
        "\n",
        "    def rotateRight(self, k):\n",
        "        if not self.head or not self.head.next or k == 0:\n",
        "            return self.head\n",
        "\n",
        "        current = self.head\n",
        "        length = 1\n",
        "        while current.next:\n",
        "            current = current.next\n",
        "            length += 1\n",
        "\n",
        "        # Adjust k to avoid unnecessary rotations\n",
        "        k = k % length\n",
        "        if k == 0:\n",
        "            return self.head\n",
        "\n",
        "         # Make the list circular\n",
        "        current.next = self.head\n",
        "\n",
        "        # Find the new head: (length - k)th node\n",
        "        new_tail = self.head\n",
        "        for _ in range(length - k - 1):\n",
        "            new_tail = new_tail.next\n",
        "\n",
        "        # Set the new head and break the circular connection\n",
        "        new_head = new_tail.next\n",
        "        new_tail.next = None\n",
        "\n",
        "        return new_head\n",
        "\n",
        "def create_linked_list(values):\n",
        "    ll = LinkedList()\n",
        "    for value in values:\n",
        "        ll.insertion(value)\n",
        "    return ll\n",
        "\n",
        "def main():\n",
        "\n",
        "    values = list(map(int, input(\"Enter the values of the linked list (separated by space): \").split()))\n",
        "\n",
        "    k = int(input(\"Enter the number of places to rotate (k): \"))\n",
        "\n",
        "    ll = create_linked_list(values)\n",
        "\n",
        "    rotated_head = ll.rotateRight(k)\n",
        "\n",
        "    current = rotated_head\n",
        "    while current:\n",
        "        print(current.data, end=' -> ' if current.next else '\\n')\n",
        "        current = current.next\n",
        "\n",
        "if __name__ == \"__main__\":\n",
        "    main()\n"
      ]
    }
  ]
}