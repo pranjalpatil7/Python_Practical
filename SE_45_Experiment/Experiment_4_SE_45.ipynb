{
  "metadata": {
    "kernelspec": {
      "name": "python",
      "display_name": "Python (Pyodide)",
      "language": "python"
    },
    "language_info": {
      "codemirror_mode": {
        "name": "python",
        "version": 3
      },
      "file_extension": ".py",
      "mimetype": "text/x-python",
      "name": "python",
      "nbconvert_exporter": "python",
      "pygments_lexer": "ipython3",
      "version": "3.8"
    }
  },
  "nbformat_minor": 5,
  "nbformat": 4,
  "cells": [
    {
      "id": "4fb56594-5f75-4a6d-9eda-6b5ce3ba2a6a",
      "cell_type": "markdown",
      "source": "#### Pranjal Keshav Patil \n#### Roll No. = 45\n\n##### The below scipt uses os module to perform the required function. Utilize the pathlib module to perform the same functionality.",
      "metadata": {}
    },
    {
      "id": "6ddf478b-97db-47b9-a17e-51db2b6da3f4",
      "cell_type": "code",
      "source": "import os\n\nfiles = [f for f in os.listdir('.') if os.path.isfile(f)]\n\nprint(\"Files in the current directory:\")\nfor file in files:\n    print(file)\n",
      "metadata": {
        "trusted": true
      },
      "outputs": [
        {
          "name": "stdout",
          "output_type": "stream",
          "text": "Files in the current directory:\nIntro.ipynb\nUntitled.ipynb\nLorenz.ipynb\nsqlite.ipynb\n"
        }
      ],
      "execution_count": 4
    },
    {
      "id": "cd966019-09c4-438d-9b4f-a11152b6bd00",
      "cell_type": "code",
      "source": "from pathlib import Path\n\ncurrent_dir = Path('.')\n\nfiles = [f for f in current_dir.iterdir() if f.is_file()]\n\nprint(\"Files in the current directory:\")\nfor file in files:\n    print(file.name)\n",
      "metadata": {
        "trusted": true
      },
      "outputs": [
        {
          "name": "stdout",
          "output_type": "stream",
          "text": "Files in the current directory:\nIntro.ipynb\nUntitled.ipynb\nLorenz.ipynb\nsqlite.ipynb\n"
        }
      ],
      "execution_count": 3
    },
    {
      "id": "36931a37-b2ce-4295-bb3f-8d086aaef4c2",
      "cell_type": "code",
      "source": "",
      "metadata": {
        "trusted": true
      },
      "outputs": [],
      "execution_count": null
    }
  ]
}