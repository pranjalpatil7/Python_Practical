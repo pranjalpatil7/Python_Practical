{
  "metadata": {
    "kernelspec": {
      "name": "python",
      "display_name": "Python (Pyodide)",
      "language": "python"
    },
    "language_info": {
      "codemirror_mode": {
        "name": "python",
        "version": 3
      },
      "file_extension": ".py",
      "mimetype": "text/x-python",
      "name": "python",
      "nbconvert_exporter": "python",
      "pygments_lexer": "ipython3",
      "version": "3.8"
    }
  },
  "nbformat_minor": 5,
  "nbformat": 4,
  "cells": [
    {
      "id": "496efdf5-95f1-4f20-b033-5c273274152b",
      "cell_type": "markdown",
      "source": "#### Name = Pranjal Keshav Patil\n#### Roll No = 45",
      "metadata": {}
    },
    {
      "id": "32f59623-6234-4c0b-b23d-ca9a63b0acc0",
      "cell_type": "code",
      "source": "import numpy as np",
      "metadata": {
        "trusted": true
      },
      "outputs": [],
      "execution_count": 1
    },
    {
      "id": "9b0126f0-c8ed-4469-97e4-18a9134dcf24",
      "cell_type": "markdown",
      "source": "##### 1. Array Creation Techniques",
      "metadata": {}
    },
    {
      "id": "65cded99-78c8-426b-bf85-47841fb7df5d",
      "cell_type": "code",
      "source": "print(\"1. Array Creation Techniques\")",
      "metadata": {
        "trusted": true
      },
      "outputs": [
        {
          "name": "stdout",
          "output_type": "stream",
          "text": "1. Array Creation Techniques\n"
        }
      ],
      "execution_count": 2
    },
    {
      "id": "1266d35c-5288-4089-a118-86e2fbfb8586",
      "cell_type": "markdown",
      "source": "##### a. Creating an array from a list",
      "metadata": {}
    },
    {
      "id": "570897fc-2a38-4496-ba03-3151e5e199a3",
      "cell_type": "code",
      "source": "array_from_list = np.array([1, 2, 3, 4, 5])\narray_from_list",
      "metadata": {
        "trusted": true
      },
      "outputs": [
        {
          "execution_count": 3,
          "output_type": "execute_result",
          "data": {
            "text/plain": "array([1, 2, 3, 4, 5])"
          },
          "metadata": {}
        }
      ],
      "execution_count": 3
    },
    {
      "id": "851ba2c6-0a76-45ad-bf9e-4043595371ab",
      "cell_type": "markdown",
      "source": "##### b. Using arange()\n",
      "metadata": {}
    },
    {
      "id": "55b95bbf-7e10-41be-96f0-fafa6b784381",
      "cell_type": "code",
      "source": "array_arange = np.arange(0, 10, 2)\narray_arange",
      "metadata": {
        "trusted": true
      },
      "outputs": [
        {
          "execution_count": 4,
          "output_type": "execute_result",
          "data": {
            "text/plain": "array([0, 2, 4, 6, 8])"
          },
          "metadata": {}
        }
      ],
      "execution_count": 4
    },
    {
      "id": "e65f52af-698f-4d2c-94d4-070ec5f286b9",
      "cell_type": "markdown",
      "source": "##### c. Using linspace()",
      "metadata": {}
    },
    {
      "id": "a2562338-7fb0-4b54-83cc-ee94202a805c",
      "cell_type": "code",
      "source": "array_linspace = np.linspace(0, 10, 5)  # Divides 0 to 10 into 5 points\narray_linspace",
      "metadata": {
        "trusted": true
      },
      "outputs": [
        {
          "execution_count": 5,
          "output_type": "execute_result",
          "data": {
            "text/plain": "array([ 0. ,  2.5,  5. ,  7.5, 10. ])"
          },
          "metadata": {}
        }
      ],
      "execution_count": 5
    },
    {
      "id": "a5475fbd-f615-4220-abb4-a438be162fb2",
      "cell_type": "markdown",
      "source": "##### d. Using zeros()\n",
      "metadata": {}
    },
    {
      "id": "bda81e3c-439b-452b-974d-28d4cd8cb960",
      "cell_type": "code",
      "source": "array_zeros = np.zeros((3, 3))\narray_zeros",
      "metadata": {
        "trusted": true
      },
      "outputs": [
        {
          "execution_count": 6,
          "output_type": "execute_result",
          "data": {
            "text/plain": "array([[0., 0., 0.],\n       [0., 0., 0.],\n       [0., 0., 0.]])"
          },
          "metadata": {}
        }
      ],
      "execution_count": 6
    },
    {
      "id": "da29ea8e-7bb7-4f12-aed2-b3b5a1d5da81",
      "cell_type": "markdown",
      "source": "##### e. Using ones()",
      "metadata": {}
    },
    {
      "id": "e14bab0a-463c-4a1c-baab-be16b56d1d19",
      "cell_type": "code",
      "source": "array_ones = np.ones((2, 2))\narray_ones",
      "metadata": {
        "trusted": true
      },
      "outputs": [
        {
          "execution_count": 7,
          "output_type": "execute_result",
          "data": {
            "text/plain": "array([[1., 1.],\n       [1., 1.]])"
          },
          "metadata": {}
        }
      ],
      "execution_count": 7
    },
    {
      "id": "10bbbf28-041f-4804-84e2-7e2a56e5029f",
      "cell_type": "markdown",
      "source": "##### f. Using eye() for identity matrix\n",
      "metadata": {}
    },
    {
      "id": "01796aa8-3f3c-46a6-8728-c8d73505bfc8",
      "cell_type": "code",
      "source": "array_eye = np.eye(3)\narray_eye",
      "metadata": {
        "trusted": true
      },
      "outputs": [
        {
          "execution_count": 8,
          "output_type": "execute_result",
          "data": {
            "text/plain": "array([[1., 0., 0.],\n       [0., 1., 0.],\n       [0., 0., 1.]])"
          },
          "metadata": {}
        }
      ],
      "execution_count": 8
    },
    {
      "id": "2578edbd-1cf8-4862-b8c0-fd589fd8e1fe",
      "cell_type": "markdown",
      "source": "##### g. Using random() for random values",
      "metadata": {}
    },
    {
      "id": "8137a971-64a2-4f29-b6f7-09b983874669",
      "cell_type": "code",
      "source": "array_random = np.random.random((3, 3))\narray_random",
      "metadata": {
        "trusted": true
      },
      "outputs": [
        {
          "execution_count": 9,
          "output_type": "execute_result",
          "data": {
            "text/plain": "array([[0.78855821, 0.8249925 , 0.89708205],\n       [0.49902233, 0.52159067, 0.05378163],\n       [0.49314013, 0.60488843, 0.78315216]])"
          },
          "metadata": {}
        }
      ],
      "execution_count": 9
    },
    {
      "id": "f5efe752-ccc9-478e-9cc7-376f80433b1c",
      "cell_type": "markdown",
      "source": "##### 2. Different NumPy Methods",
      "metadata": {}
    },
    {
      "id": "68dc58fc-1f87-44fa-8dea-8eec579430fd",
      "cell_type": "code",
      "source": "print(\"\\n2. NumPy Methods\")",
      "metadata": {
        "trusted": true
      },
      "outputs": [
        {
          "name": "stdout",
          "output_type": "stream",
          "text": "\n2. NumPy Methods\n"
        }
      ],
      "execution_count": 10
    },
    {
      "id": "993842f2-db86-416a-b008-eb100eb37b6a",
      "cell_type": "markdown",
      "source": "##### a. Reshaping an array",
      "metadata": {}
    },
    {
      "id": "ac54723a-4261-4dde-b1b6-0fd683de33dc",
      "cell_type": "code",
      "source": "reshaped_array = np.arange(1, 10).reshape(3, 3)\nreshaped_array",
      "metadata": {
        "trusted": true
      },
      "outputs": [
        {
          "execution_count": 11,
          "output_type": "execute_result",
          "data": {
            "text/plain": "array([[1, 2, 3],\n       [4, 5, 6],\n       [7, 8, 9]])"
          },
          "metadata": {}
        }
      ],
      "execution_count": 11
    },
    {
      "id": "d3bd7571-9d87-438b-ba02-89b8936ce850",
      "cell_type": "markdown",
      "source": "##### b. Transposing an array",
      "metadata": {}
    },
    {
      "id": "df291128-bc23-45ed-975d-18d13d3d5f45",
      "cell_type": "code",
      "source": "transposed_array = reshaped_array.T\ntransposed_array",
      "metadata": {
        "trusted": true
      },
      "outputs": [
        {
          "execution_count": 12,
          "output_type": "execute_result",
          "data": {
            "text/plain": "array([[1, 4, 7],\n       [2, 5, 8],\n       [3, 6, 9]])"
          },
          "metadata": {}
        }
      ],
      "execution_count": 12
    },
    {
      "id": "1c469ce3-a395-4899-badf-961bca0c4cda",
      "cell_type": "markdown",
      "source": "##### c. Mathematical operations",
      "metadata": {}
    },
    {
      "id": "9a605abb-6a32-4305-9b35-db9ff79f060c",
      "cell_type": "code",
      "source": "array_math = np.array([1, 2, 3])\narray_math + 2\narray_math * 3\nnp.sqrt(array_math)",
      "metadata": {
        "trusted": true
      },
      "outputs": [
        {
          "execution_count": 13,
          "output_type": "execute_result",
          "data": {
            "text/plain": "array([1.        , 1.41421356, 1.73205081])"
          },
          "metadata": {}
        }
      ],
      "execution_count": 13
    },
    {
      "id": "94652dd2-6c8e-424b-8569-cc960181077b",
      "cell_type": "markdown",
      "source": "#####  d. Aggregation methods",
      "metadata": {}
    },
    {
      "id": "2ed2d6b3-13f8-4040-9a34-6c3d7c49f772",
      "cell_type": "code",
      "source": "np.sum(array_math)\nnp.mean(array_math)\nnp.max(array_math)\nnp.min(array_math)",
      "metadata": {
        "trusted": true
      },
      "outputs": [
        {
          "execution_count": 14,
          "output_type": "execute_result",
          "data": {
            "text/plain": "np.int32(1)"
          },
          "metadata": {}
        }
      ],
      "execution_count": 14
    },
    {
      "id": "5a190d6e-cf31-4fa8-b22f-8ccba980ec27",
      "cell_type": "markdown",
      "source": "##### e. Concatenation of arrays",
      "metadata": {}
    },
    {
      "id": "2e0ccd15-b555-4eb2-8da7-1c96b5895166",
      "cell_type": "code",
      "source": "array_a = np.array([1, 2, 3])\narray_b = np.array([4, 5, 6])\nconcat_array = np.concatenate((array_a, array_b))\nconcat_array",
      "metadata": {
        "trusted": true
      },
      "outputs": [
        {
          "execution_count": 15,
          "output_type": "execute_result",
          "data": {
            "text/plain": "array([1, 2, 3, 4, 5, 6])"
          },
          "metadata": {}
        }
      ],
      "execution_count": 15
    },
    {
      "id": "60b52b7b-935f-4620-8109-42ce2a3a340e",
      "cell_type": "markdown",
      "source": "##### f. Sorting an array",
      "metadata": {}
    },
    {
      "id": "88a2ca72-8247-4c7b-a095-e333e76612a6",
      "cell_type": "code",
      "source": "",
      "metadata": {
        "trusted": true
      },
      "outputs": [],
      "execution_count": null
    }
  ]
}